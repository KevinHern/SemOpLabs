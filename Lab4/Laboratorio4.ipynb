{
  "nbformat": 4,
  "nbformat_minor": 0,
  "metadata": {
    "colab": {
      "name": "Laboratorio4.ipynb",
      "provenance": [],
      "collapsed_sections": [],
      "include_colab_link": true
    },
    "kernelspec": {
      "name": "python3",
      "display_name": "Python 3"
    }
  },
  "cells": [
    {
      "cell_type": "markdown",
      "metadata": {
        "id": "view-in-github",
        "colab_type": "text"
      },
      "source": [
        "<a href=\"https://colab.research.google.com/github/KevinHern/SemOpLabs/blob/master/Lab4/Laboratorio4.ipynb\" target=\"_parent\"><img src=\"https://colab.research.google.com/assets/colab-badge.svg\" alt=\"Open In Colab\"/></a>"
      ]
    },
    {
      "cell_type": "code",
      "metadata": {
        "id": "9pdzMoCD4Sut",
        "colab_type": "code",
        "colab": {}
      },
      "source": [
        "%tensorflow_version 2.x\n",
        "\n",
        "import tensorflow as tf\n",
        "from tensorflow import keras\n",
        "import matplotlib.pyplot as plt\n",
        "\n",
        "from tensorflow.keras.models import Sequential\n",
        "from tensorflow.keras.layers import Dense, Flatten, Dropout, Conv2D, MaxPooling2D"
      ],
      "execution_count": 0,
      "outputs": []
    },
    {
      "cell_type": "code",
      "metadata": {
        "id": "0LAIqwXR1K3u",
        "colab_type": "code",
        "colab": {}
      },
      "source": [
        "#Getting Fashion MNIST dataset\n",
        "\n",
        "(train_images_or, train_labels), (test_images_or, test_labels) = fashion_mnist.load_data()\n",
        "\n",
        "# reshape dataset to have a single channel\n",
        "train_images = train_images_or.reshape((train_images_or.shape[0], 28, 28, 1))\n",
        "test_images = test_images_or.reshape((test_images_or.shape[0], 28, 28, 1))\n",
        "\n",
        "#Partitioning training data into training and validation\n",
        "\n",
        "validation_images = train_images[:20000]\n",
        "validation_labels = train_labels[:20000]\n",
        "train_images = train_images[20000:60000]\n",
        "train_labels = train_labels[20000:60000]"
      ],
      "execution_count": 0,
      "outputs": []
    },
    {
      "cell_type": "code",
      "metadata": {
        "id": "0mz6RMiw1Yr5",
        "colab_type": "code",
        "colab": {}
      },
      "source": [
        "#Gray Scaling to reduce processing and increase performance\n",
        "train_images = train_images / 255.0\n",
        "test_images = test_images / 255.0"
      ],
      "execution_count": 0,
      "outputs": []
    },
    {
      "cell_type": "code",
      "metadata": {
        "id": "mSVY5Eje1tMg",
        "colab_type": "code",
        "colab": {}
      },
      "source": [
        "## MAKING A CONVNET\n",
        "\n",
        "model = Sequential([\n",
        "    Conv2D(32, (3, 3), input_shape=(28, 28, 1)),\n",
        "    MaxPooling2D((2, 2)),\n",
        "    Conv2D(32, (3, 3)),\n",
        "    MaxPooling2D(),\n",
        "    Flatten(),\n",
        "    Dense(128, activation='relu'),\n",
        "    Dropout(0.2),\n",
        "    Dense(10, activation='softmax')\n",
        "])\n",
        "\n",
        "model.compile(optimizer='adam',\n",
        "              loss='sparse_categorical_crossentropy',\n",
        "              metrics=['accuracy'])"
      ],
      "execution_count": 0,
      "outputs": []
    },
    {
      "cell_type": "code",
      "metadata": {
        "id": "T4-DblJo2rrT",
        "colab_type": "code",
        "colab": {
          "base_uri": "https://localhost:8080/",
          "height": 370
        },
        "outputId": "9ef1c8f7-606e-488b-b037-78a77dda15b9"
      },
      "source": [
        "#Training Model\n",
        "\n",
        "history = model.fit(train_images, train_labels, epochs=10, validation_data=(validation_images, validation_labels))\n",
        "\n",
        "#Observations:\n",
        "#   - Loss decreases very slowly with 2 convolution layers\n",
        "#   - Model works pretty well with just 1 convolution layer"
      ],
      "execution_count": 100,
      "outputs": [
        {
          "output_type": "stream",
          "text": [
            "Train on 40000 samples, validate on 20000 samples\n",
            "Epoch 1/10\n",
            "40000/40000 [==============================] - 34s 845us/sample - loss: 0.5080 - accuracy: 0.8270 - val_loss: 0.4816 - val_accuracy: 0.8395\n",
            "Epoch 2/10\n",
            "40000/40000 [==============================] - 34s 848us/sample - loss: 0.4743 - accuracy: 0.8385 - val_loss: 0.4041 - val_accuracy: 0.8662\n",
            "Epoch 3/10\n",
            "40000/40000 [==============================] - 34s 845us/sample - loss: 0.4623 - accuracy: 0.8405 - val_loss: 0.4163 - val_accuracy: 0.8617\n",
            "Epoch 4/10\n",
            "40000/40000 [==============================] - 34s 843us/sample - loss: 0.4447 - accuracy: 0.8478 - val_loss: 0.4232 - val_accuracy: 0.8729\n",
            "Epoch 5/10\n",
            "40000/40000 [==============================] - 34s 844us/sample - loss: 0.4187 - accuracy: 0.8525 - val_loss: 0.3912 - val_accuracy: 0.8759\n",
            "Epoch 6/10\n",
            "40000/40000 [==============================] - 34s 846us/sample - loss: 0.4230 - accuracy: 0.8545 - val_loss: 0.3720 - val_accuracy: 0.8742\n",
            "Epoch 7/10\n",
            "40000/40000 [==============================] - 34s 854us/sample - loss: 0.4015 - accuracy: 0.8626 - val_loss: 0.4347 - val_accuracy: 0.8554\n",
            "Epoch 8/10\n",
            "40000/40000 [==============================] - 34s 844us/sample - loss: 0.4022 - accuracy: 0.8600 - val_loss: 0.4573 - val_accuracy: 0.8712\n",
            "Epoch 9/10\n",
            "40000/40000 [==============================] - 34s 848us/sample - loss: 0.3917 - accuracy: 0.8644 - val_loss: 0.3887 - val_accuracy: 0.8682\n",
            "Epoch 10/10\n",
            "40000/40000 [==============================] - 34s 840us/sample - loss: 0.3905 - accuracy: 0.8637 - val_loss: 0.3825 - val_accuracy: 0.8770\n"
          ],
          "name": "stdout"
        }
      ]
    },
    {
      "cell_type": "code",
      "metadata": {
        "id": "XarLgIMJ8oVp",
        "colab_type": "code",
        "colab": {}
      },
      "source": [
        "classifications = model.predict(test_images)"
      ],
      "execution_count": 0,
      "outputs": []
    },
    {
      "cell_type": "code",
      "metadata": {
        "id": "VRyHBtW89DmO",
        "colab_type": "code",
        "colab": {
          "base_uri": "https://localhost:8080/",
          "height": 500
        },
        "outputId": "41ca323f-37a4-44fa-ab99-055a3a4267cf"
      },
      "source": [
        "#Defining Categories\n",
        "categories = ['T-shirt/top', 'Trouser', 'Pullover', 'Dress', 'Coat',\n",
        "               'Sandal', 'Shirt', 'Sneaker', 'Bag', 'Ankle boot']\n",
        "\n",
        "\n",
        "#Testing ConvNet\n",
        "for x in range(5):\n",
        "  print(classifications[x]) #The bigger the number, its the prediction\n",
        "  print(test_labels[x])     #Actual prediction\n",
        "\n",
        "  plt.imshow(test_images_or[x])     #Number"
      ],
      "execution_count": 106,
      "outputs": [
        {
          "output_type": "stream",
          "text": [
            "[0.0000000e+00 0.0000000e+00 0.0000000e+00 0.0000000e+00 0.0000000e+00\n",
            " 4.0195186e-08 0.0000000e+00 4.2023121e-06 0.0000000e+00 9.9999571e-01]\n",
            "9\n",
            "[1.7286860e-05 0.0000000e+00 9.9986732e-01 1.0922224e-06 5.9870235e-06\n",
            " 0.0000000e+00 1.0838003e-04 0.0000000e+00 3.6547312e-09 0.0000000e+00]\n",
            "2\n",
            "[0. 1. 0. 0. 0. 0. 0. 0. 0. 0.]\n",
            "1\n",
            "[0. 1. 0. 0. 0. 0. 0. 0. 0. 0.]\n",
            "1\n",
            "[1.91983953e-01 3.35059844e-12 4.46073301e-02 8.04578012e-04\n",
            " 2.92097069e-02 9.88633478e-15 7.33376324e-01 1.20613485e-14\n",
            " 1.81187825e-05 1.33753591e-23]\n",
            "6\n"
          ],
          "name": "stdout"
        },
        {
          "output_type": "display_data",
          "data": {
            "image/png": "[encoded data removed]",
            "text/plain": [
              "<Figure size 432x288 with 1 Axes>"
            ]
          },
          "metadata": {
            "tags": []
          }
        }
      ]
    }
  ]
}