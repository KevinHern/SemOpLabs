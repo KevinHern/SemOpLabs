{
  "nbformat": 4,
  "nbformat_minor": 0,
  "metadata": {
    "colab": {
      "name": "Laboratorio5.ipynb",
      "provenance": [],
      "collapsed_sections": [],
      "toc_visible": true,
      "include_colab_link": true
    },
    "kernelspec": {
      "name": "python3",
      "display_name": "Python 3"
    },
    "accelerator": "GPU"
  },
  "cells": [
    {
      "cell_type": "markdown",
      "metadata": {
        "id": "view-in-github",
        "colab_type": "text"
      },
      "source": [
        "<a href=\"https://colab.research.google.com/github/KevinHern/SemOpLabs/blob/master/Lab5/Laboratorio5.ipynb\" target=\"_parent\"><img src=\"https://colab.research.google.com/assets/colab-badge.svg\" alt=\"Open In Colab\"/></a>"
      ]
    },
    {
      "cell_type": "markdown",
      "metadata": {
        "id": "p3W0PfXDA-NZ",
        "colab_type": "text"
      },
      "source": [
        "# Imports"
      ]
    },
    {
      "cell_type": "code",
      "metadata": {
        "id": "HHfUIKXYA8jj",
        "colab_type": "code",
        "colab": {}
      },
      "source": [
        "from __future__ import absolute_import, division, print_function, unicode_literals\n",
        "\n",
        "import tensorflow as tf\n",
        "\n",
        "import os, re\n",
        "import numpy as np\n",
        "import pandas as pd\n",
        "from tensorflow import keras\n",
        "\n",
        "from tensorflow.keras.preprocessing.text import Tokenizer\n",
        "from tensorflow.keras.preprocessing.sequence import pad_sequences\n",
        "\n",
        "from tensorflow.keras.models import Sequential\n",
        "from tensorflow.keras.layers import Dense, Embedding, Bidirectional, LSTM"
      ],
      "execution_count": 0,
      "outputs": []
    },
    {
      "cell_type": "markdown",
      "metadata": {
        "id": "5Nj5zidSI0HK",
        "colab_type": "text"
      },
      "source": [
        "# Dataset"
      ]
    },
    {
      "cell_type": "markdown",
      "metadata": {
        "id": "fL0ZH-AX_fO5",
        "colab_type": "text"
      },
      "source": [
        "## Preparing to use Kaggle"
      ]
    },
    {
      "cell_type": "code",
      "metadata": {
        "id": "OTKnzLBO_bca",
        "colab_type": "code",
        "colab": {}
      },
      "source": [
        "# Uploading my kaggle.json\n",
        "from google.colab import files\n",
        "files.upload()"
      ],
      "execution_count": 0,
      "outputs": []
    },
    {
      "cell_type": "code",
      "metadata": {
        "id": "4dMDp04L_qJF",
        "colab_type": "code",
        "colab": {}
      },
      "source": [
        "# Making sure kaggle.json is present\n",
        "!ls -lha kaggle.json"
      ],
      "execution_count": 0,
      "outputs": []
    },
    {
      "cell_type": "code",
      "metadata": {
        "id": "aXjf9B5L_xki",
        "colab_type": "code",
        "colab": {}
      },
      "source": [
        "# Installing kaggle\n",
        "!pip install -q kaggle"
      ],
      "execution_count": 0,
      "outputs": []
    },
    {
      "cell_type": "code",
      "metadata": {
        "id": "987BSFNw_7ia",
        "colab_type": "code",
        "colab": {}
      },
      "source": [
        "# Doing some kaggle shenanigans\n",
        "# Used Tutorial's link: https://colab.research.google.com/drive/1DofKEdQYaXmDWBzuResXWWvxhLgDeVyl#scrollTo=KixiXyagGy7Y\n",
        "!mkdir -p ~/.kaggle\n",
        "!cp kaggle.json ~/.kaggle/\n",
        "\n",
        "!chmod 600 ~/.kaggle/kaggle.json"
      ],
      "execution_count": 0,
      "outputs": []
    },
    {
      "cell_type": "markdown",
      "metadata": {
        "id": "FYzyMYmxAYqo",
        "colab_type": "text"
      },
      "source": [
        "## Downloading Dataset: Hotel Reviews"
      ]
    },
    {
      "cell_type": "code",
      "metadata": {
        "id": "KPqO6AJqAHzy",
        "colab_type": "code",
        "colab": {}
      },
      "source": [
        "#https://www.kaggle.com/harmanpreet93/hotelreviews\n",
        "!kaggle datasets download harmanpreet93/hotelreviews\n",
        "\n",
        "## Binary classificacion: either people are happy or not"
      ],
      "execution_count": 0,
      "outputs": []
    },
    {
      "cell_type": "code",
      "metadata": {
        "id": "oGWm6MFWAoYQ",
        "colab_type": "code",
        "colab": {}
      },
      "source": [
        "!unzip -o 'hotelreviews.zip'\n"
      ],
      "execution_count": 0,
      "outputs": []
    },
    {
      "cell_type": "code",
      "metadata": {
        "id": "aeGUQKg0AwQC",
        "colab_type": "code",
        "colab": {}
      },
      "source": [
        "os.listdir()"
      ],
      "execution_count": 0,
      "outputs": []
    },
    {
      "cell_type": "code",
      "metadata": {
        "id": "Cb4ktcJjA0QU",
        "colab_type": "code",
        "colab": {}
      },
      "source": [
        "hotels = pd.read_csv('hotel-reviews.csv')\n",
        "hotels.head"
      ],
      "execution_count": 0,
      "outputs": []
    },
    {
      "cell_type": "markdown",
      "metadata": {
        "id": "sLQ9kbZ5KHKd",
        "colab_type": "text"
      },
      "source": [
        "## Cleanning Dataset"
      ]
    },
    {
      "cell_type": "code",
      "metadata": {
        "id": "axFaeqh9BSHm",
        "colab_type": "code",
        "colab": {}
      },
      "source": [
        "hotels.columns"
      ],
      "execution_count": 0,
      "outputs": []
    },
    {
      "cell_type": "code",
      "metadata": {
        "id": "SasDgk5zBYPP",
        "colab_type": "code",
        "colab": {}
      },
      "source": [
        "# Removing unnecesary columns\n",
        "properties = list(hotels.columns.values)\n",
        "properties.remove('User_ID')\n",
        "properties.remove('Browser_Used')\n",
        "properties.remove('Device_Used')\n",
        "properties"
      ],
      "execution_count": 0,
      "outputs": []
    },
    {
      "cell_type": "code",
      "metadata": {
        "id": "Z0uqYla_B10f",
        "colab_type": "code",
        "colab": {}
      },
      "source": [
        "data = hotels[properties]\n",
        "data"
      ],
      "execution_count": 0,
      "outputs": []
    },
    {
      "cell_type": "code",
      "metadata": {
        "id": "F06R488cCU9S",
        "colab_type": "code",
        "colab": {}
      },
      "source": [
        "# Cleaning data\n",
        "data = data[data['Description'] != '0']\n",
        "data = data[data['Is_Response'] != '0']\n",
        "data = data[data['Description'] != '']\n",
        "data = data[data['Is_Response'] != '']\n",
        "data"
      ],
      "execution_count": 0,
      "outputs": []
    },
    {
      "cell_type": "code",
      "metadata": {
        "id": "LJndoW-lD7eT",
        "colab_type": "code",
        "colab": {}
      },
      "source": [
        "# mapping Is_Response to a number\n",
        "dataset = data.replace({'not happy': 0, 'happy': 1})\n",
        "dataset"
      ],
      "execution_count": 0,
      "outputs": []
    },
    {
      "cell_type": "code",
      "metadata": {
        "id": "LxPM_KxrGo02",
        "colab_type": "code",
        "colab": {}
      },
      "source": [
        "# List first row of the dataset\n",
        "dataset.iloc[0]"
      ],
      "execution_count": 0,
      "outputs": []
    },
    {
      "cell_type": "markdown",
      "metadata": {
        "id": "JLiC5uk2IgbA",
        "colab_type": "text"
      },
      "source": [
        "## Splitting Dataset\n"
      ]
    },
    {
      "cell_type": "code",
      "metadata": {
        "id": "G4ypZsbeIh-I",
        "colab_type": "code",
        "colab": {}
      },
      "source": [
        "# 70% train, 15% test and 15% validation\n",
        "train_split = dataset.sample(frac = 0.7,random_state=42)\n",
        "test_split = dataset.drop(train_split.index).sample(frac = 0.5)\n",
        "validation_split = dataset.drop(train_split.index).drop(test_split.index)\n",
        "\n",
        "train_split.shape, validation_split.shape, test_split.shape"
      ],
      "execution_count": 0,
      "outputs": []
    },
    {
      "cell_type": "code",
      "metadata": {
        "id": "UUm_sLabJdJe",
        "colab_type": "code",
        "colab": {}
      },
      "source": [
        "# Converting to Tensors\n",
        "train_dataset = tf.data.Dataset.from_tensor_slices((train_split['Description'], train_split['Is_Response']))\n",
        "test_dataset = tf.data.Dataset.from_tensor_slices((test_split['Description'], test_split['Is_Response']))\n",
        "validation_dataset = tf.data.Dataset.from_tensor_slices((validation_split['Description'], validation_split['Is_Response']))\n",
        "train_dataset.element_spec"
      ],
      "execution_count": 0,
      "outputs": []
    },
    {
      "cell_type": "code",
      "metadata": {
        "id": "pDOrCTgsJnJx",
        "colab_type": "code",
        "colab": {}
      },
      "source": [
        "description, review = next(iter(train_dataset))\n",
        "description, review"
      ],
      "execution_count": 0,
      "outputs": []
    },
    {
      "cell_type": "markdown",
      "metadata": {
        "id": "35n0a79QJ2Oa",
        "colab_type": "text"
      },
      "source": [
        "## Shuffling"
      ]
    },
    {
      "cell_type": "code",
      "metadata": {
        "id": "8DqMQ_1MJ4IK",
        "colab_type": "code",
        "colab": {}
      },
      "source": [
        "# Because why not\n",
        "batch_size = 128\n",
        "shuffle_buffer_size = 1000"
      ],
      "execution_count": 0,
      "outputs": []
    },
    {
      "cell_type": "code",
      "metadata": {
        "id": "ORtNgQniKZxa",
        "colab_type": "code",
        "colab": {}
      },
      "source": [
        "train_dataset = train_dataset.shuffle(shuffle_buffer_size).repeat().batch(batch_size)\n",
        "validation_dataset = validation_dataset.shuffle(shuffle_buffer_size).batch(batch_size)\n",
        "test_dataset = test_dataset.shuffle(shuffle_buffer_size).batch(batch_size)"
      ],
      "execution_count": 0,
      "outputs": []
    },
    {
      "cell_type": "code",
      "metadata": {
        "id": "BUfwiYUGKe7J",
        "colab_type": "code",
        "colab": {}
      },
      "source": [
        "description, review = next(iter(train_dataset))\n",
        "description.shape, review.shape"
      ],
      "execution_count": 0,
      "outputs": []
    },
    {
      "cell_type": "markdown",
      "metadata": {
        "id": "D1yssN-0M380",
        "colab_type": "text"
      },
      "source": [
        "## Processing Text"
      ]
    },
    {
      "cell_type": "code",
      "metadata": {
        "id": "3-EZVKDLLZiA",
        "colab_type": "code",
        "colab": {}
      },
      "source": [
        "def preprocess_text(sen):\n",
        "    sentence = re.sub('[^a-zA-Z]', ' ', sen)\n",
        "    sentence = re.sub(r\"\\s+[a-zA-Z]\\s+\", ' ', sentence)\n",
        "    sentence = re.sub(r'\\s+', ' ', sentence)\n",
        "\n",
        "    return sentence"
      ],
      "execution_count": 0,
      "outputs": []
    },
    {
      "cell_type": "code",
      "metadata": {
        "id": "YsXdnQ62NCAw",
        "colab_type": "code",
        "colab": {}
      },
      "source": [
        "train_split_processed = train_split['Description'].apply(lambda x: preprocess_text(x))\n",
        "test_split_processed = test_split['Description'].apply(lambda x: preprocess_text(x))\n",
        "validation_split_processed = validation_split['Description'].apply(lambda x: preprocess_text(x))"
      ],
      "execution_count": 0,
      "outputs": []
    },
    {
      "cell_type": "code",
      "metadata": {
        "id": "baRGMDc1NZj2",
        "colab_type": "code",
        "colab": {}
      },
      "source": [
        "train_split_processed.iloc[0]"
      ],
      "execution_count": 0,
      "outputs": []
    },
    {
      "cell_type": "code",
      "metadata": {
        "id": "ZxbZwxKGNcqy",
        "colab_type": "code",
        "colab": {}
      },
      "source": [
        "max_len = train_split_processed.map(lambda x: len(x)).max()\n",
        "max_len"
      ],
      "execution_count": 0,
      "outputs": []
    },
    {
      "cell_type": "code",
      "metadata": {
        "id": "VxBKjzfwNezL",
        "colab_type": "code",
        "colab": {}
      },
      "source": [
        "tokenizer = Tokenizer()\n",
        "tokenizer.fit_on_texts(train_split_processed)\n",
        "train_sequences = tokenizer.texts_to_sequences(train_split_processed)\n",
        "train_data = pad_sequences(train_sequences, maxlen=max_len, padding='post')\n",
        "\n",
        "test_sequences = tokenizer.texts_to_sequences(test_split_processed)\n",
        "test_data  = pad_sequences(test_sequences, maxlen=max_len, padding='post')\n",
        "\n",
        "validation_sequences = tokenizer.texts_to_sequences(validation_split_processed)\n",
        "validation_data  = pad_sequences(validation_sequences, maxlen=max_len, padding='post')\n",
        "\n",
        "train_data.shape, test_data.shape, validation_data.shape"
      ],
      "execution_count": 0,
      "outputs": []
    },
    {
      "cell_type": "code",
      "metadata": {
        "id": "XK-tEsKsNtw2",
        "colab_type": "code",
        "colab": {}
      },
      "source": [
        "reverse_word_map = dict(map(reversed, tokenizer.word_index.items()))\n",
        "vocab_size = len(tokenizer.word_index) + 1\n",
        "vocab_size"
      ],
      "execution_count": 0,
      "outputs": []
    },
    {
      "cell_type": "markdown",
      "metadata": {
        "id": "b1pV2JceN3C-",
        "colab_type": "text"
      },
      "source": [
        "## Re-building Dataset"
      ]
    },
    {
      "cell_type": "code",
      "metadata": {
        "id": "r7LfCRpiN41D",
        "colab_type": "code",
        "colab": {}
      },
      "source": [
        "train_dataset_embedding = tf.data.Dataset.from_tensor_slices((train_data, train_split['Is_Response']))\n",
        "test_dataset_embedding = tf.data.Dataset.from_tensor_slices((test_data, test_split['Is_Response']))\n",
        "validation_dataset_embedding = tf.data.Dataset.from_tensor_slices((validation_data, validation_split['Is_Response']))\n",
        "\n",
        "train_dataset_embedding.element_spec"
      ],
      "execution_count": 0,
      "outputs": []
    },
    {
      "cell_type": "code",
      "metadata": {
        "id": "G-uyKGdjN-WE",
        "colab_type": "code",
        "colab": {}
      },
      "source": [
        "description, review = next(iter(train_dataset_embedding))\n",
        "description, review"
      ],
      "execution_count": 0,
      "outputs": []
    },
    {
      "cell_type": "code",
      "metadata": {
        "id": "RqnEfnZmOFII",
        "colab_type": "code",
        "colab": {}
      },
      "source": [
        "train_dataset_embedding = train_dataset_embedding.shuffle(shuffle_buffer_size).repeat().batch(batch_size)\n",
        "validation_dataset_embedding = validation_dataset_embedding.shuffle(shuffle_buffer_size).batch(batch_size)\n",
        "test_dataset_embedding = test_dataset_embedding.shuffle(shuffle_buffer_size).batch(batch_size)"
      ],
      "execution_count": 0,
      "outputs": []
    },
    {
      "cell_type": "code",
      "metadata": {
        "id": "u2wVM-mAOIxa",
        "colab_type": "code",
        "colab": {}
      },
      "source": [
        "description, review = next(iter(train_dataset_embedding))\n",
        "description.shape"
      ],
      "execution_count": 0,
      "outputs": []
    },
    {
      "cell_type": "markdown",
      "metadata": {
        "id": "fjG7qatROr1N",
        "colab_type": "text"
      },
      "source": [
        "# Model"
      ]
    },
    {
      "cell_type": "markdown",
      "metadata": {
        "colab_type": "text",
        "id": "K8SUhGFNsmRi"
      },
      "source": [
        "## Building\n",
        "\n"
      ]
    },
    {
      "cell_type": "code",
      "metadata": {
        "colab_type": "code",
        "id": "QJgI1pow2YR9",
        "colab": {}
      },
      "source": [
        "model = Sequential([\n",
        "    Embedding(vocab_size, 128, input_length=max_len),\n",
        "    Bidirectional(LSTM(64)),\n",
        "    Dense(16, activation='relu'),\n",
        "    Dense(4, activation='relu'),   \n",
        "    Dense(1, activation='sigmoid'),\n",
        "])\n",
        "\n",
        "model.summary()"
      ],
      "execution_count": 0,
      "outputs": []
    },
    {
      "cell_type": "code",
      "metadata": {
        "id": "LHsJ-_DdSbeI",
        "colab_type": "code",
        "colab": {}
      },
      "source": [
        "model.compile(loss='binary_crossentropy',\n",
        "                optimizer='adam',\n",
        "                metrics=['accuracy'])"
      ],
      "execution_count": 0,
      "outputs": []
    },
    {
      "cell_type": "markdown",
      "metadata": {
        "colab_type": "text",
        "id": "o0mzV7NThJjJ"
      },
      "source": [
        "## Training"
      ]
    },
    {
      "cell_type": "code",
      "metadata": {
        "id": "BtDpJtJ9TQQk",
        "colab_type": "code",
        "colab": {}
      },
      "source": [
        "epochs = 10\n",
        "train_steps = 10\n",
        "validation_steps = 5"
      ],
      "execution_count": 0,
      "outputs": []
    },
    {
      "cell_type": "code",
      "metadata": {
        "colab_type": "code",
        "id": "aLtO33tNh6V8",
        "colab": {}
      },
      "source": [
        "history = model.fit(train_dataset_embedding,\n",
        "                    epochs=epochs,\n",
        "                    steps_per_epoch= train_steps,\n",
        "                    validation_data=validation_dataset_embedding,\n",
        "                    validation_steps=validation_steps\n",
        "                   )         "
      ],
      "execution_count": 0,
      "outputs": []
    },
    {
      "cell_type": "markdown",
      "metadata": {
        "id": "cwObLwR8ceU8",
        "colab_type": "text"
      },
      "source": [
        "## Evaluation"
      ]
    },
    {
      "cell_type": "code",
      "metadata": {
        "colab_type": "code",
        "id": "KTPCYf_Jh6TH",
        "colab": {}
      },
      "source": [
        "eval_loss, eval_acc = model.evaluate(test_dataset_embedding)\n",
        "\n",
        "print('\\nEval loss: {:.3f}, Eval accuracy: {:.3f}'.format(eval_loss, eval_acc))"
      ],
      "execution_count": 0,
      "outputs": []
    }
  ]
}