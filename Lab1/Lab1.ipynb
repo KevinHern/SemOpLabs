{
  "nbformat": 4,
  "nbformat_minor": 0,
  "metadata": {
    "colab": {
      "name": "Lab1.ipynb",
      "provenance": [],
      "collapsed_sections": []
    },
    "kernelspec": {
      "name": "python3",
      "display_name": "Python 3"
    }
  },
  "cells": [
    {
      "cell_type": "code",
      "metadata": {
        "id": "9rvXQGAA0ssC",
        "colab_type": "code",
        "outputId": "71a659c5-33cf-4894-b4c8-8d6a4b70bfe4",
        "colab": {
          "base_uri": "https://localhost:8080/",
          "height": 87
        }
      },
      "source": [
        "%tensorflow_version 2.x\n",
        "\n",
        "import tensorflow as tf\n",
        "from tensorflow.keras.datasets import mnist\n",
        "import matplotlib.pyplot as plt\n",
        "\n",
        "(x_train, y_train),(x_test, y_test) = mnist.load_data()\n",
        "x_train = x_train/255.0\n",
        "x_test = x_test/255.0\n",
        "\n",
        "#Stop training model when accuracy is bigger than 0.9\n",
        "class Callback(tf.keras.callbacks.Callback):\n",
        "  def on_epoch_end(self, epoch, logs={}):\n",
        "    if(logs.get('acc')>0.9):\n",
        "      self.model.stop_training = True\n",
        "      \n",
        "callbacks = Callback()\n",
        "\n",
        "model = tf.keras.models.Sequential([\n",
        "    tf.keras.layers.Flatten(),\n",
        "    tf.keras.layers.Dense(100, activation = tf.nn.relu),\n",
        "    tf.keras.layers.Dense(50, activation = tf.nn.relu),\n",
        "    tf.keras.layers.Dense(10, activation = tf.nn.softmax)\n",
        "])\n",
        "\n",
        "model.compile(optimizer='adam',\n",
        "              loss='sparse_categorical_crossentropy',\n",
        "              metrics=['accuracy'])\n",
        "\n",
        "model.fit(x_train, y_train, epochs = 10,callbacks = [callbacks])\n",
        "\n",
        "classifications = model.predict(x_test)\n",
        "\n"
      ],
      "execution_count": 10,
      "outputs": [
        {
          "output_type": "stream",
          "text": [
            "TensorFlow is already loaded. Please restart the runtime to change versions.\n",
            "Train on 60000 samples\n",
            "Epoch 1/10\n",
            "60000/60000 [==============================] - 6s 97us/sample - loss: 0.2496 - acc: 0.9264\n"
          ],
          "name": "stdout"
        }
      ]
    },
    {
      "cell_type": "code",
      "metadata": {
        "id": "hi8uUA0L3Ecs",
        "colab_type": "code",
        "outputId": "6a6e7577-fc62-4e94-f5cb-3b7797d11cb1",
        "colab": {
          "base_uri": "https://localhost:8080/",
          "height": 529
        }
      },
      "source": [
        "for x in range(5):\n",
        "  print(classifications[x]) #The bigger the number, its the prediction\n",
        "  print(y_test[x])          #Actual prediction\n",
        "  plt.imshow(x_test[x])     #Number"
      ],
      "execution_count": 8,
      "outputs": [
        {
          "output_type": "stream",
          "text": [
            "[1.3156338e-05 9.3097057e-08 9.6175791e-04 1.4360058e-03 9.7544408e-08\n",
            " 7.2781273e-07 3.0541028e-10 9.9756300e-01 4.5453739e-06 2.0590764e-05]\n",
            "7\n",
            "[4.5027000e-06 1.4690848e-05 9.9932075e-01 6.1359949e-04 2.6903568e-10\n",
            " 7.9559995e-06 1.8104171e-05 6.9260828e-08 2.0386227e-05 1.0229558e-09]\n",
            "2\n",
            "[1.9708465e-04 9.8861104e-01 1.1895273e-03 3.8625556e-04 7.1716506e-04\n",
            " 2.6743661e-03 2.0399389e-03 2.2015423e-03 1.8871255e-03 9.5951313e-05]\n",
            "1\n",
            "[9.9974948e-01 3.9035413e-08 6.4151369e-05 1.0719451e-05 1.4749664e-07\n",
            " 2.2957576e-05 9.3689465e-05 2.0729683e-05 3.4754842e-07 3.7841011e-05]\n",
            "0\n",
            "[6.4689846e-04 3.1125826e-05 7.3798519e-04 1.2426286e-04 9.5271826e-01\n",
            " 2.7459525e-03 1.9341960e-04 1.7838331e-03 6.9958012e-04 4.0318649e-02]\n",
            "4\n"
          ],
          "name": "stdout"
        },
        {
          "output_type": "display_data",
          "data": {
            "image/png": "[encoded data removed]",
            "text/plain": [
              "<Figure size 432x288 with 1 Axes>"
            ]
          },
          "metadata": {
            "tags": []
          }
        }
      ]
    },
    {
      "cell_type": "code",
      "metadata": {
        "id": "0QWb3Fdl-J96",
        "colab_type": "code",
        "colab": {}
      },
      "source": [
        ""
      ],
      "execution_count": 0,
      "outputs": []
    }
  ]
}