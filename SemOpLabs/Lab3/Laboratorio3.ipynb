{
  "nbformat": 4,
  "nbformat_minor": 0,
  "metadata": {
    "colab": {
      "name": "Laboratorio3.ipynb",
      "provenance": [],
      "private_outputs": true,
      "collapsed_sections": [],
      "include_colab_link": true
    },
    "kernelspec": {
      "display_name": "Python 3",
      "name": "python3"
    }
  },
  "cells": [
    {
      "cell_type": "markdown",
      "metadata": {
        "id": "view-in-github",
        "colab_type": "text"
      },
      "source": [
        "<a href=\"https://colab.research.google.com/github/KevinHern/SemOpLabs/blob/master/SemOpLabs/Lab3/Laboratorio3.ipynb\" target=\"_parent\"><img src=\"https://colab.research.google.com/assets/colab-badge.svg\" alt=\"Open In Colab\"/></a>"
      ]
    },
    {
      "cell_type": "code",
      "metadata": {
        "colab_type": "code",
        "id": "2ew7HTbPpCJH",
        "colab": {}
      },
      "source": [
        "from __future__ import absolute_import, division, print_function, unicode_literals\n",
        "import numpy as np\n",
        "\n",
        "%tensorflow_version 2.x\n",
        "import tensorflow as tf\n",
        "\n",
        "from tensorflow.keras.models import Sequential\n",
        "from tensorflow.keras.layers import Dense, Flatten\n",
        "\n",
        "import tensorflow_hub as hub\n",
        "import tensorflow_datasets as tfds"
      ],
      "execution_count": 0,
      "outputs": []
    },
    {
      "cell_type": "code",
      "metadata": {
        "id": "oIE7gIwjWrwk",
        "colab_type": "code",
        "colab": {}
      },
      "source": [
        "#Getting imdb dataset\n",
        "\n",
        "train_data, test_data = tfds.load(\n",
        "    name=\"imdb_reviews\", \n",
        "    split=('train', 'test'),\n",
        "    as_supervised=True)"
      ],
      "execution_count": 0,
      "outputs": []
    },
    {
      "cell_type": "code",
      "metadata": {
        "id": "LnaW2We2Xu0t",
        "colab_type": "code",
        "colab": {}
      },
      "source": [
        "#Splitting the dataset into 50% train and 50% validation using shard\n",
        "\n",
        "validation_data = train_data.shard(2, 0)\n",
        "train_data = train_data.shard(2, 1)"
      ],
      "execution_count": 0,
      "outputs": []
    },
    {
      "cell_type": "code",
      "metadata": {
        "id": "KHhAhb6zlN_h",
        "colab_type": "code",
        "colab": {}
      },
      "source": [
        "train_data, validation_data, test_data"
      ],
      "execution_count": 0,
      "outputs": []
    },
    {
      "cell_type": "code",
      "metadata": {
        "id": "y7HlAj8JafBF",
        "colab_type": "code",
        "colab": {}
      },
      "source": [
        "#Show some rows\n",
        "\n",
        "example_pool, labels = next(iter(train_data.batch(5)))\n",
        "example_pool, labels\n"
      ],
      "execution_count": 0,
      "outputs": []
    },
    {
      "cell_type": "code",
      "metadata": {
        "colab_type": "code",
        "id": "_NUbzVeYkgcO",
        "colab": {}
      },
      "source": [
        "#Importing keras layer\n",
        "\n",
        "embedding = \"https://tfhub.dev/google/tf2-preview/gnews-swivel-20dim/1\"\n",
        "hub_layer = hub.KerasLayer(embedding, input_shape=[], \n",
        "                           dtype=tf.string, trainable=True)"
      ],
      "execution_count": 0,
      "outputs": []
    },
    {
      "cell_type": "code",
      "metadata": {
        "colab_type": "code",
        "id": "xpKOoWgu-llD",
        "colab": {}
      },
      "source": [
        "#Building model\n",
        "\n",
        "model = Sequential([\n",
        "  hub_layer,\n",
        "  Flatten(),\n",
        "  Dense(64, activation='relu'),\n",
        "  Dense(16, activation='relu'),\n",
        "  Dense(4, activation='relu'),\n",
        "  Dense(1, activation='sigmoid')\n",
        "])\n",
        "\n",
        "\n",
        "model.summary()"
      ],
      "execution_count": 0,
      "outputs": []
    },
    {
      "cell_type": "code",
      "metadata": {
        "colab_type": "code",
        "id": "Mr0GP-cQ-llN",
        "colab": {}
      },
      "source": [
        "model.compile(optimizer='adam',\n",
        "              loss='binary_crossentropy',\n",
        "              metrics=['accuracy'])"
      ],
      "execution_count": 0,
      "outputs": []
    },
    {
      "cell_type": "code",
      "metadata": {
        "colab_type": "code",
        "id": "tXSGrjWZ-llW",
        "colab": {}
      },
      "source": [
        "#Training model\n",
        "history = model.fit(train_data.shuffle(10000).batch(256),\n",
        "                    epochs=10,\n",
        "                    validation_data=validation_data.batch(256),\n",
        "                    verbose=1)\n",
        "\n",
        "#10 epochs leds to overfitting"
      ],
      "execution_count": 0,
      "outputs": []
    },
    {
      "cell_type": "code",
      "metadata": {
        "id": "drPlOYycZkIp",
        "colab_type": "code",
        "colab": {}
      },
      "source": [
        "#Testing model\n",
        "results = model.evaluate(test_data.batch(100), verbose=1)\n",
        "\n"
      ],
      "execution_count": 0,
      "outputs": []
    },
    {
      "cell_type": "code",
      "metadata": {
        "id": "i1f2HWHrbwNI",
        "colab_type": "code",
        "colab": {}
      },
      "source": [
        "testing_pool, test_labels = next(iter(validation_data.shuffle(500).batch(5)))\n",
        "testing_pool, test_labels"
      ],
      "execution_count": 0,
      "outputs": []
    },
    {
      "cell_type": "code",
      "metadata": {
        "id": "dr-ul6hxcBFF",
        "colab_type": "code",
        "colab": {}
      },
      "source": [
        "#Predicted label, true label\n",
        "model.predict(testing_pool), test_labels"
      ],
      "execution_count": 0,
      "outputs": []
    }
  ]
}